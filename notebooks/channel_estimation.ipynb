{
 "cells": [
  {
   "cell_type": "markdown",
   "metadata": {
    "id": "nJkm1iujzSdx"
   },
   "source": [
    "# Channel Estimation"
   ]
  },
  {
   "cell_type": "markdown",
   "metadata": {
    "id": "fSEJvuZVzaCU"
   },
   "source": [
    "This notebook steps through the procedures for channel estimation using OFDM transmission."
   ]
  },
  {
   "cell_type": "markdown",
   "metadata": {
    "id": "-6WcB359gw7m"
   },
   "source": [
    "## Script Setup"
   ]
  },
  {
   "cell_type": "code",
   "execution_count": 1,
   "metadata": {
    "id": "fNR0_j87ziDO"
   },
   "outputs": [
    {
     "ename": "KeyboardInterrupt",
     "evalue": "",
     "output_type": "error",
     "traceback": [
      "\u001B[1;31m---------------------------------------------------------------------------\u001B[0m",
      "\u001B[1;31mKeyError\u001B[0m                                  Traceback (most recent call last)",
      "\u001B[1;32mC:\\Program Files\\JetBrains\\PyCharm 2020.3\\plugins\\python\\helpers\\pydev\\_pydevd_frame_eval\\pydevd_frame_evaluator_common.pyx\u001B[0m in \u001B[0;36m_pydevd_frame_eval.pydevd_frame_evaluator_common.get_func_code_info\u001B[1;34m()\u001B[0m\n",
      "\u001B[1;31mKeyError\u001B[0m: 'd:\\\\arquivos\\\\python projects\\\\spcup21\\\\venv\\\\lib\\\\site-packages\\\\matplotlib\\\\ticker.py'",
      "\nDuring handling of the above exception, another exception occurred:\n",
      "\u001B[1;31mKeyError\u001B[0m                                  Traceback (most recent call last)",
      "\u001B[1;32mC:\\Program Files\\JetBrains\\PyCharm 2020.3\\plugins\\python\\helpers\\pydev\\pydevd_file_utils.py\u001B[0m in \u001B[0;36mget_abs_path_real_path_and_base_from_file\u001B[1;34m(f)\u001B[0m\n\u001B[0;32m    556\u001B[0m     \u001B[1;32mtry\u001B[0m\u001B[1;33m:\u001B[0m\u001B[1;33m\u001B[0m\u001B[1;33m\u001B[0m\u001B[0m\n\u001B[1;32m--> 557\u001B[1;33m         \u001B[1;32mreturn\u001B[0m \u001B[0mNORM_PATHS_AND_BASE_CONTAINER\u001B[0m\u001B[1;33m[\u001B[0m\u001B[0mf\u001B[0m\u001B[1;33m]\u001B[0m\u001B[1;33m\u001B[0m\u001B[1;33m\u001B[0m\u001B[0m\n\u001B[0m\u001B[0;32m    558\u001B[0m     \u001B[1;32mexcept\u001B[0m\u001B[1;33m:\u001B[0m\u001B[1;33m\u001B[0m\u001B[1;33m\u001B[0m\u001B[0m\n",
      "\u001B[1;31mKeyError\u001B[0m: 'd:\\\\arquivos\\\\python projects\\\\spcup21\\\\venv\\\\lib\\\\site-packages\\\\matplotlib\\\\ticker.py'",
      "\nDuring handling of the above exception, another exception occurred:\n",
      "\u001B[1;31mKeyError\u001B[0m                                  Traceback (most recent call last)",
      "\u001B[1;32mC:\\Program Files\\JetBrains\\PyCharm 2020.3\\plugins\\python\\helpers\\pydev\\pydevd_file_utils.py\u001B[0m in \u001B[0;36m_NormPaths\u001B[1;34m(filename)\u001B[0m\n\u001B[0;32m    229\u001B[0m     \u001B[1;32mtry\u001B[0m\u001B[1;33m:\u001B[0m\u001B[1;33m\u001B[0m\u001B[1;33m\u001B[0m\u001B[0m\n\u001B[1;32m--> 230\u001B[1;33m         \u001B[1;32mreturn\u001B[0m \u001B[0mNORM_PATHS_CONTAINER\u001B[0m\u001B[1;33m[\u001B[0m\u001B[0mfilename\u001B[0m\u001B[1;33m]\u001B[0m\u001B[1;33m\u001B[0m\u001B[1;33m\u001B[0m\u001B[0m\n\u001B[0m\u001B[0;32m    231\u001B[0m     \u001B[1;32mexcept\u001B[0m \u001B[0mKeyError\u001B[0m\u001B[1;33m:\u001B[0m\u001B[1;33m\u001B[0m\u001B[1;33m\u001B[0m\u001B[0m\n",
      "\u001B[1;31mKeyError\u001B[0m: 'd:\\\\arquivos\\\\python projects\\\\spcup21\\\\venv\\\\lib\\\\site-packages\\\\matplotlib\\\\ticker.py'",
      "\nDuring handling of the above exception, another exception occurred:\n",
      "\u001B[1;31mKeyboardInterrupt\u001B[0m                         Traceback (most recent call last)",
      "\u001B[1;32mC:\\Program Files\\JetBrains\\PyCharm 2020.3\\plugins\\python\\helpers\\pydev\\_pydevd_frame_eval\\pydevd_frame_evaluator_common.pyx\u001B[0m in \u001B[0;36m_pydevd_frame_eval.pydevd_frame_evaluator_common.get_func_code_info\u001B[1;34m()\u001B[0m\n",
      "\u001B[1;32mC:\\Program Files\\JetBrains\\PyCharm 2020.3\\plugins\\python\\helpers\\pydev\\pydevd_file_utils.py\u001B[0m in \u001B[0;36mget_abs_path_real_path_and_base_from_file\u001B[1;34m(f)\u001B[0m\n\u001B[0;32m    569\u001B[0m             \u001B[0mabs_path\u001B[0m\u001B[1;33m,\u001B[0m \u001B[0mreal_path\u001B[0m\u001B[1;33m,\u001B[0m \u001B[0mbase\u001B[0m \u001B[1;33m=\u001B[0m \u001B[0mf\u001B[0m\u001B[1;33m,\u001B[0m \u001B[0mf\u001B[0m\u001B[1;33m,\u001B[0m \u001B[0mf\u001B[0m\u001B[1;33m\u001B[0m\u001B[1;33m\u001B[0m\u001B[0m\n\u001B[0;32m    570\u001B[0m         \u001B[1;32melse\u001B[0m\u001B[1;33m:\u001B[0m\u001B[1;33m\u001B[0m\u001B[1;33m\u001B[0m\u001B[0m\n\u001B[1;32m--> 571\u001B[1;33m             \u001B[0mabs_path\u001B[0m\u001B[1;33m,\u001B[0m \u001B[0mreal_path\u001B[0m \u001B[1;33m=\u001B[0m \u001B[0m_NormPaths\u001B[0m\u001B[1;33m(\u001B[0m\u001B[0mf\u001B[0m\u001B[1;33m)\u001B[0m\u001B[1;33m\u001B[0m\u001B[1;33m\u001B[0m\u001B[0m\n\u001B[0m\u001B[0;32m    572\u001B[0m         \u001B[0mbase\u001B[0m \u001B[1;33m=\u001B[0m \u001B[0mbasename\u001B[0m\u001B[1;33m(\u001B[0m\u001B[0mreal_path\u001B[0m\u001B[1;33m)\u001B[0m\u001B[1;33m\u001B[0m\u001B[1;33m\u001B[0m\u001B[0m\n\u001B[0;32m    573\u001B[0m         \u001B[0mret\u001B[0m \u001B[1;33m=\u001B[0m \u001B[0mabs_path\u001B[0m\u001B[1;33m,\u001B[0m \u001B[0mreal_path\u001B[0m\u001B[1;33m,\u001B[0m \u001B[0mbase\u001B[0m\u001B[1;33m\u001B[0m\u001B[1;33m\u001B[0m\u001B[0m\n",
      "\u001B[1;32mC:\\Program Files\\JetBrains\\PyCharm 2020.3\\plugins\\python\\helpers\\pydev\\pydevd_file_utils.py\u001B[0m in \u001B[0;36m_NormPaths\u001B[1;34m(filename)\u001B[0m\n\u001B[0;32m    236\u001B[0m             \u001B[1;32mreturn\u001B[0m \u001B[1;34m''\u001B[0m\u001B[1;33m,\u001B[0m \u001B[1;34m''\u001B[0m\u001B[1;33m\u001B[0m\u001B[1;33m\u001B[0m\u001B[0m\n\u001B[0;32m    237\u001B[0m         \u001B[0mabs_path\u001B[0m \u001B[1;33m=\u001B[0m \u001B[0m_NormPath\u001B[0m\u001B[1;33m(\u001B[0m\u001B[0mfilename\u001B[0m\u001B[1;33m,\u001B[0m \u001B[0mos\u001B[0m\u001B[1;33m.\u001B[0m\u001B[0mpath\u001B[0m\u001B[1;33m.\u001B[0m\u001B[0mabspath\u001B[0m\u001B[1;33m)\u001B[0m\u001B[1;33m\u001B[0m\u001B[1;33m\u001B[0m\u001B[0m\n\u001B[1;32m--> 238\u001B[1;33m         \u001B[0mreal_path\u001B[0m \u001B[1;33m=\u001B[0m \u001B[0m_NormPath\u001B[0m\u001B[1;33m(\u001B[0m\u001B[0mfilename\u001B[0m\u001B[1;33m,\u001B[0m \u001B[0mrPath\u001B[0m\u001B[1;33m)\u001B[0m\u001B[1;33m\u001B[0m\u001B[1;33m\u001B[0m\u001B[0m\n\u001B[0m\u001B[0;32m    239\u001B[0m \u001B[1;33m\u001B[0m\u001B[0m\n\u001B[0;32m    240\u001B[0m         \u001B[1;31m# cache it for fast access later\u001B[0m\u001B[1;33m\u001B[0m\u001B[1;33m\u001B[0m\u001B[1;33m\u001B[0m\u001B[0m\n",
      "\u001B[1;32mC:\\Program Files\\JetBrains\\PyCharm 2020.3\\plugins\\python\\helpers\\pydev\\pydevd_file_utils.py\u001B[0m in \u001B[0;36m_NormPath\u001B[1;34m(filename, normpath)\u001B[0m\n\u001B[0;32m    244\u001B[0m \u001B[1;33m\u001B[0m\u001B[0m\n\u001B[0;32m    245\u001B[0m \u001B[1;32mdef\u001B[0m \u001B[0m_NormPath\u001B[0m\u001B[1;33m(\u001B[0m\u001B[0mfilename\u001B[0m\u001B[1;33m,\u001B[0m \u001B[0mnormpath\u001B[0m\u001B[1;33m)\u001B[0m\u001B[1;33m:\u001B[0m\u001B[1;33m\u001B[0m\u001B[1;33m\u001B[0m\u001B[0m\n\u001B[1;32m--> 246\u001B[1;33m     \u001B[0mr\u001B[0m \u001B[1;33m=\u001B[0m \u001B[0mnormpath\u001B[0m\u001B[1;33m(\u001B[0m\u001B[0mfilename\u001B[0m\u001B[1;33m)\u001B[0m\u001B[1;33m\u001B[0m\u001B[1;33m\u001B[0m\u001B[0m\n\u001B[0m\u001B[0;32m    247\u001B[0m     \u001B[0mind\u001B[0m \u001B[1;33m=\u001B[0m \u001B[0mr\u001B[0m\u001B[1;33m.\u001B[0m\u001B[0mfind\u001B[0m\u001B[1;33m(\u001B[0m\u001B[1;34m'.zip'\u001B[0m\u001B[1;33m)\u001B[0m\u001B[1;33m\u001B[0m\u001B[1;33m\u001B[0m\u001B[0m\n\u001B[0;32m    248\u001B[0m     \u001B[1;32mif\u001B[0m \u001B[0mind\u001B[0m \u001B[1;33m==\u001B[0m \u001B[1;33m-\u001B[0m\u001B[1;36m1\u001B[0m\u001B[1;33m:\u001B[0m\u001B[1;33m\u001B[0m\u001B[1;33m\u001B[0m\u001B[0m\n",
      "\u001B[1;32m~\\AppData\\Local\\Programs\\Python\\Python39\\lib\\ntpath.py\u001B[0m in \u001B[0;36mrealpath\u001B[1;34m(path)\u001B[0m\n\u001B[0;32m    645\u001B[0m             \u001B[0mpath\u001B[0m \u001B[1;33m=\u001B[0m \u001B[0mjoin\u001B[0m\u001B[1;33m(\u001B[0m\u001B[0mcwd\u001B[0m\u001B[1;33m,\u001B[0m \u001B[0mpath\u001B[0m\u001B[1;33m)\u001B[0m\u001B[1;33m\u001B[0m\u001B[1;33m\u001B[0m\u001B[0m\n\u001B[0;32m    646\u001B[0m         \u001B[1;32mtry\u001B[0m\u001B[1;33m:\u001B[0m\u001B[1;33m\u001B[0m\u001B[1;33m\u001B[0m\u001B[0m\n\u001B[1;32m--> 647\u001B[1;33m             \u001B[0mpath\u001B[0m \u001B[1;33m=\u001B[0m \u001B[0m_getfinalpathname\u001B[0m\u001B[1;33m(\u001B[0m\u001B[0mpath\u001B[0m\u001B[1;33m)\u001B[0m\u001B[1;33m\u001B[0m\u001B[1;33m\u001B[0m\u001B[0m\n\u001B[0m\u001B[0;32m    648\u001B[0m             \u001B[0minitial_winerror\u001B[0m \u001B[1;33m=\u001B[0m \u001B[1;36m0\u001B[0m\u001B[1;33m\u001B[0m\u001B[1;33m\u001B[0m\u001B[0m\n\u001B[0;32m    649\u001B[0m         \u001B[1;32mexcept\u001B[0m \u001B[0mOSError\u001B[0m \u001B[1;32mas\u001B[0m \u001B[0mex\u001B[0m\u001B[1;33m:\u001B[0m\u001B[1;33m\u001B[0m\u001B[1;33m\u001B[0m\u001B[0m\n",
      "\u001B[1;31mKeyboardInterrupt\u001B[0m: "
     ]
    },
    {
     "name": "stderr",
     "output_type": "stream",
     "text": [
      "Exception ignored in: '_pydevd_frame_eval.pydevd_frame_evaluator_win32_39_64.get_bytecode_while_frame_eval'\n",
      "Traceback (most recent call last):\n",
      "  File \"_pydevd_frame_eval/pydevd_frame_evaluator_common.pyx\", line 159, in _pydevd_frame_eval.pydevd_frame_evaluator_common.get_func_code_info\n",
      "    abs_path_real_path_and_base = get_abs_path_real_path_and_base_from_file(co_filename)\n",
      "  File \"C:\\Program Files\\JetBrains\\PyCharm 2020.3\\plugins\\python\\helpers\\pydev\\pydevd_file_utils.py\", line 571, in get_abs_path_real_path_and_base_from_file\n",
      "    abs_path, real_path = _NormPaths(f)\n",
      "  File \"C:\\Program Files\\JetBrains\\PyCharm 2020.3\\plugins\\python\\helpers\\pydev\\pydevd_file_utils.py\", line 238, in _NormPaths\n",
      "    real_path = _NormPath(filename, rPath)\n",
      "  File \"C:\\Program Files\\JetBrains\\PyCharm 2020.3\\plugins\\python\\helpers\\pydev\\pydevd_file_utils.py\", line 246, in _NormPath\n",
      "    r = normpath(filename)\n",
      "  File \"C:\\Users\\rodrf\\AppData\\Local\\Programs\\Python\\Python39\\lib\\ntpath.py\", line 647, in realpath\n",
      "    path = _getfinalpathname(path)\n",
      "KeyboardInterrupt: \n"
     ]
    },
    {
     "ename": "SystemError",
     "evalue": "error return without exception set",
     "output_type": "error",
     "traceback": [
      "\u001B[1;31m---------------------------------------------------------------------------\u001B[0m",
      "\u001B[1;31mSystemError\u001B[0m                               Traceback (most recent call last)",
      "\u001B[1;32m<ipython-input-1-5c9cb5e408f6>\u001B[0m in \u001B[0;36m<module>\u001B[1;34m\u001B[0m\n\u001B[0;32m      3\u001B[0m \u001B[1;32mfrom\u001B[0m \u001B[0mscipy\u001B[0m \u001B[1;32mimport\u001B[0m \u001B[0mfft\u001B[0m\u001B[1;33m\u001B[0m\u001B[1;33m\u001B[0m\u001B[0m\n\u001B[0;32m      4\u001B[0m \u001B[1;32mimport\u001B[0m \u001B[0mnumpy\u001B[0m \u001B[1;32mas\u001B[0m \u001B[0mnp\u001B[0m\u001B[1;33m\u001B[0m\u001B[1;33m\u001B[0m\u001B[0m\n\u001B[1;32m----> 5\u001B[1;33m \u001B[1;32mimport\u001B[0m \u001B[0mmatplotlib\u001B[0m\u001B[1;33m.\u001B[0m\u001B[0mpyplot\u001B[0m \u001B[1;32mas\u001B[0m \u001B[0mplt\u001B[0m\u001B[1;33m\u001B[0m\u001B[1;33m\u001B[0m\u001B[0m\n\u001B[0m\u001B[0;32m      6\u001B[0m \u001B[1;32mfrom\u001B[0m \u001B[0mIPython\u001B[0m\u001B[1;33m.\u001B[0m\u001B[0mdisplay\u001B[0m \u001B[1;32mimport\u001B[0m \u001B[0mImage\u001B[0m\u001B[1;33m\u001B[0m\u001B[1;33m\u001B[0m\u001B[0m\n\u001B[0;32m      7\u001B[0m \u001B[1;33m\u001B[0m\u001B[0m\n",
      "\u001B[1;32md:\\arquivos\\python projects\\spcup21\\venv\\lib\\site-packages\\matplotlib\\pyplot.py\u001B[0m in \u001B[0;36m<module>\u001B[1;34m\u001B[0m\n\u001B[0;32m     34\u001B[0m \u001B[1;32mfrom\u001B[0m \u001B[0mcycler\u001B[0m \u001B[1;32mimport\u001B[0m \u001B[0mcycler\u001B[0m\u001B[1;33m\u001B[0m\u001B[1;33m\u001B[0m\u001B[0m\n\u001B[0;32m     35\u001B[0m \u001B[1;32mimport\u001B[0m \u001B[0mmatplotlib\u001B[0m\u001B[1;33m\u001B[0m\u001B[1;33m\u001B[0m\u001B[0m\n\u001B[1;32m---> 36\u001B[1;33m \u001B[1;32mimport\u001B[0m \u001B[0mmatplotlib\u001B[0m\u001B[1;33m.\u001B[0m\u001B[0mcolorbar\u001B[0m\u001B[1;33m\u001B[0m\u001B[1;33m\u001B[0m\u001B[0m\n\u001B[0m\u001B[0;32m     37\u001B[0m \u001B[1;32mimport\u001B[0m \u001B[0mmatplotlib\u001B[0m\u001B[1;33m.\u001B[0m\u001B[0mimage\u001B[0m\u001B[1;33m\u001B[0m\u001B[1;33m\u001B[0m\u001B[0m\n\u001B[0;32m     38\u001B[0m \u001B[1;32mfrom\u001B[0m \u001B[0mmatplotlib\u001B[0m \u001B[1;32mimport\u001B[0m \u001B[0mrcsetup\u001B[0m\u001B[1;33m,\u001B[0m \u001B[0mstyle\u001B[0m\u001B[1;33m\u001B[0m\u001B[1;33m\u001B[0m\u001B[0m\n",
      "\u001B[1;32md:\\arquivos\\python projects\\spcup21\\venv\\lib\\site-packages\\matplotlib\\colorbar.py\u001B[0m in \u001B[0;36m<module>\u001B[1;34m\u001B[0m\n\u001B[0;32m     42\u001B[0m \u001B[1;32mimport\u001B[0m \u001B[0mmatplotlib\u001B[0m\u001B[1;33m.\u001B[0m\u001B[0mcollections\u001B[0m \u001B[1;32mas\u001B[0m \u001B[0mcollections\u001B[0m\u001B[1;33m\u001B[0m\u001B[1;33m\u001B[0m\u001B[0m\n\u001B[0;32m     43\u001B[0m \u001B[1;32mimport\u001B[0m \u001B[0mmatplotlib\u001B[0m\u001B[1;33m.\u001B[0m\u001B[0mcolors\u001B[0m \u001B[1;32mas\u001B[0m \u001B[0mcolors\u001B[0m\u001B[1;33m\u001B[0m\u001B[1;33m\u001B[0m\u001B[0m\n\u001B[1;32m---> 44\u001B[1;33m \u001B[1;32mimport\u001B[0m \u001B[0mmatplotlib\u001B[0m\u001B[1;33m.\u001B[0m\u001B[0mcontour\u001B[0m \u001B[1;32mas\u001B[0m \u001B[0mcontour\u001B[0m\u001B[1;33m\u001B[0m\u001B[1;33m\u001B[0m\u001B[0m\n\u001B[0m\u001B[0;32m     45\u001B[0m \u001B[1;32mimport\u001B[0m \u001B[0mmatplotlib\u001B[0m\u001B[1;33m.\u001B[0m\u001B[0mcm\u001B[0m \u001B[1;32mas\u001B[0m \u001B[0mcm\u001B[0m\u001B[1;33m\u001B[0m\u001B[1;33m\u001B[0m\u001B[0m\n\u001B[0;32m     46\u001B[0m \u001B[1;32mimport\u001B[0m \u001B[0mmatplotlib\u001B[0m\u001B[1;33m.\u001B[0m\u001B[0mgridspec\u001B[0m \u001B[1;32mas\u001B[0m \u001B[0mgridspec\u001B[0m\u001B[1;33m\u001B[0m\u001B[1;33m\u001B[0m\u001B[0m\n",
      "\u001B[1;32md:\\arquivos\\python projects\\spcup21\\venv\\lib\\site-packages\\matplotlib\\contour.py\u001B[0m in \u001B[0;36m<module>\u001B[1;34m\u001B[0m\n\u001B[0;32m     10\u001B[0m \u001B[1;32mimport\u001B[0m \u001B[0mmatplotlib\u001B[0m \u001B[1;32mas\u001B[0m \u001B[0mmpl\u001B[0m\u001B[1;33m\u001B[0m\u001B[1;33m\u001B[0m\u001B[0m\n\u001B[0;32m     11\u001B[0m \u001B[1;32mimport\u001B[0m \u001B[0mmatplotlib\u001B[0m\u001B[1;33m.\u001B[0m\u001B[0mpath\u001B[0m \u001B[1;32mas\u001B[0m \u001B[0mmpath\u001B[0m\u001B[1;33m\u001B[0m\u001B[1;33m\u001B[0m\u001B[0m\n\u001B[1;32m---> 12\u001B[1;33m \u001B[1;32mimport\u001B[0m \u001B[0mmatplotlib\u001B[0m\u001B[1;33m.\u001B[0m\u001B[0mticker\u001B[0m \u001B[1;32mas\u001B[0m \u001B[0mticker\u001B[0m\u001B[1;33m\u001B[0m\u001B[1;33m\u001B[0m\u001B[0m\n\u001B[0m\u001B[0;32m     13\u001B[0m \u001B[1;32mimport\u001B[0m \u001B[0mmatplotlib\u001B[0m\u001B[1;33m.\u001B[0m\u001B[0mcm\u001B[0m \u001B[1;32mas\u001B[0m \u001B[0mcm\u001B[0m\u001B[1;33m\u001B[0m\u001B[1;33m\u001B[0m\u001B[0m\n\u001B[0;32m     14\u001B[0m \u001B[1;32mimport\u001B[0m \u001B[0mmatplotlib\u001B[0m\u001B[1;33m.\u001B[0m\u001B[0mcolors\u001B[0m \u001B[1;32mas\u001B[0m \u001B[0mmcolors\u001B[0m\u001B[1;33m\u001B[0m\u001B[1;33m\u001B[0m\u001B[0m\n",
      "\u001B[1;31mSystemError\u001B[0m: error return without exception set"
     ]
    }
   ],
   "source": [
    "from scipy.io import loadmat\n",
    "from scipy import fft\n",
    "import numpy as np"
   ]
  },
  {
   "cell_type": "markdown",
   "metadata": {
    "id": "0Fx2SEHu4NXL"
   },
   "source": [
    "First, load dataset."
   ]
  },
  {
   "cell_type": "code",
   "execution_count": 2,
   "metadata": {
    "id": "ZaZniSn8cpfZ"
   },
   "outputs": [],
   "source": [
    "dataset1 = loadmat(\"../datasets/dataset1.mat\")"
   ]
  },
  {
   "cell_type": "markdown",
   "metadata": {
    "id": "3gACkFd7eSN7"
   },
   "source": [
    "Then unpack constants."
   ]
  },
  {
   "cell_type": "code",
   "execution_count": 3,
   "metadata": {
    "id": "sFJxCVQeeVAJ"
   },
   "outputs": [],
   "source": [
    "K = int(dataset1['K'])\n",
    "M = int(dataset1['M'])\n",
    "N = int(dataset1['N'])"
   ]
  },
  {
   "cell_type": "markdown",
   "metadata": {
    "id": "KK-fWbQzfJQS"
   },
   "source": [
    "Unpack matrices."
   ]
  },
  {
   "cell_type": "code",
   "execution_count": 4,
   "metadata": {
    "id": "v-TKWzQHfLgt"
   },
   "outputs": [],
   "source": [
    "pilotMatrix4N = dataset1['pilotMatrix4N']\n",
    "receivedSignal4N = dataset1['receivedSignal4N']\n",
    "transmitSignal = dataset1['transmitSignal'][:, 0]   # Transform from comumn vector to row vector"
   ]
  },
  {
   "cell_type": "markdown",
   "metadata": {
    "id": "lsMOwbVZg5gY"
   },
   "source": [
    "## Theoretical Background\n",
    "\n",
    "The received samples are of the form $$z[n] = \\sum_{k=0}^{M-1} h[k]x_{n-k} + w[n]$$ where $w[n]$ is a noise sample. This expression shows that $z[n]$ is a weighted sum of the current and the last $M-1$ symbols. Then, $z[1]$ depends on $x_1$ and $\\{x_0, ..., x_{-(M-2)}\\}$.\n",
    "\n",
    "In this case, the signal is sampled in time, which means that it is periodic in frequency with a period of $1/T_s$.\n",
    "\n",
    "Now, we don't want that the symbols from another block $\\{x_0, ..., x_{-(M-2)}\\}$ interfere with the samples from the current block. What we can do to fix this is turn $x_n$ into a periodic signal. When we do this, the signal in frequency becomes sampled, since it is equivalent to the coefficients of a fourier series.\n",
    "\n",
    "When we do this, we say that *circular convolution* is happening, since the signal $x_n$ is periodic an can be thought of a circular signal. The sample $z[1]$ depends on all the samples that $h$ is able to cover, and $h$ actually grabs samples from the previous cycle.\n",
    "\n",
    "The effect of this is ultimately that in frequency the signal turns into $H \\cdot \\bar{x}$, where $H$ and $\\bar{x}$ are the size-$K$ DFT of $h$ and $x$ respectivelly. We can then encode the information symbols in $\\bar{x}[n]$, which are affected independently by a channel tap $H[n]$."
   ]
  },
  {
   "cell_type": "markdown",
   "metadata": {
    "id": "TlGuX1jXuDm1"
   },
   "source": [
    "Now we are ready to start processing the signal. First of all, the IFFT (Inverse Fast Fourier Transform) operation is scaled by a factor of $\\sqrt{K}$ so that the noise remains with the same variance in both time and frequency domains. The FFT is scaled by $1/\\sqrt{K}$. The channel FFT/IFFT operations are not scaled."
   ]
  },
  {
   "cell_type": "code",
   "execution_count": 5,
   "metadata": {
    "id": "nYtLjfBbtxdv"
   },
   "outputs": [],
   "source": [
    "xf = transmitSignal\n",
    "x = np.sqrt(K) * fft.ifft(xf)"
   ]
  },
  {
   "cell_type": "markdown",
   "metadata": {
    "id": "Pp4tI_CFsYZv"
   },
   "source": [
    "Obtain the cyclic prefix and append to the signal."
   ]
  },
  {
   "cell_type": "code",
   "execution_count": 6,
   "metadata": {
    "id": "VzeBKuK7uyf6"
   },
   "outputs": [],
   "source": [
    "cp = x[-(M-1):]\n",
    "x_cp = np.concatenate((cp, x))"
   ]
  },
  {
   "cell_type": "markdown",
   "metadata": {
    "id": "2QcyWPxHwoD7"
   },
   "source": [
    "## Channel Estimation\n",
    "\n",
    "We can estimate the channel using the following steps (from Modern Digital and Analog Communication Systems - Lathi) ![Channel Estimation](images/channel_estimation.png)"
   ]
  },
  {
   "cell_type": "markdown",
   "metadata": {
    "id": "hBeptjHqzXr9"
   },
   "source": [
    "Now that we have the transmitted symbols `x_cp`we can compute the matrix $R[i, j]$ shown above.\n",
    "\n"
   ]
  },
  {
   "cell_type": "code",
   "execution_count": 7,
   "metadata": {
    "id": "U5ugTghaytW_",
    "pycharm": {
     "name": "#%%\n"
    }
   },
   "outputs": [],
   "source": [
    "R = np.zeros((M, M), dtype=complex)\n",
    "for i in range(M):\n",
    "    for j in range(M):\n",
    "        R[i, j] = np.correlate(x_cp[M - 1 - j:M - 1 - j + K], x_cp[M - 1 - i:M - 1 - i + K])\n",
    "\n",
    "R_inv = np.linalg.inv(R)"
   ]
  }
 ],
 "metadata": {
  "colab": {
   "name": "Channel Estimation",
   "provenance": [],
   "toc_visible": true
  },
  "kernelspec": {
   "display_name": "Python 3",
   "language": "python",
   "name": "python3"
  },
  "language_info": {
   "codemirror_mode": {
    "name": "ipython",
    "version": 3
   },
   "file_extension": ".py",
   "mimetype": "text/x-python",
   "name": "python",
   "nbconvert_exporter": "python",
   "pygments_lexer": "ipython3",
   "version": "3.8.5"
  }
 },
 "nbformat": 4,
 "nbformat_minor": 4
}